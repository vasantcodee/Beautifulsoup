{
  "nbformat": 4,
  "nbformat_minor": 0,
  "metadata": {
    "colab": {
      "provenance": [],
      "include_colab_link": true
    },
    "kernelspec": {
      "name": "python3",
      "display_name": "Python 3"
    },
    "language_info": {
      "name": "python"
    }
  },
  "cells": [
    {
      "cell_type": "markdown",
      "metadata": {
        "id": "view-in-github",
        "colab_type": "text"
      },
      "source": [
        "<a href=\"https://colab.research.google.com/github/vasantcodee/Beautifulsoup/blob/main/BeautifulSoup.ipynb\" target=\"_parent\"><img src=\"https://colab.research.google.com/assets/colab-badge.svg\" alt=\"Open In Colab\"/></a>"
      ]
    },
    {
      "cell_type": "code",
      "source": [],
      "metadata": {
        "id": "cJxHG6Y9F_1g"
      },
      "execution_count": null,
      "outputs": []
    },
    {
      "cell_type": "code",
      "source": [
        "url = 'https://www.discogs.com/sell/release/3000851?ev=rb'"
      ],
      "metadata": {
        "id": "QeMkthd3VMl2"
      },
      "execution_count": null,
      "outputs": []
    },
    {
      "cell_type": "code",
      "source": [
        "headers = {\n",
        "    'User-Agent': 'Mozilla/5.0 (Windows NT 10.0; Win64; x64) AppleWebKit/537.36 (KHTML, like Gecko) Chrome/58.0.3029.110 Safari/537.3'}"
      ],
      "metadata": {
        "id": "mv3CWd-2VQAy"
      },
      "execution_count": null,
      "outputs": []
    },
    {
      "cell_type": "code",
      "source": [
        "\n",
        "response = requests.get(url, headers=headers)"
      ],
      "metadata": {
        "id": "HMCcxaERVTc0"
      },
      "execution_count": null,
      "outputs": []
    },
    {
      "cell_type": "code",
      "source": [
        "soup = BeautifulSoup(response.text, 'html.parser')\n",
        "script_tag = soup.find('script', {'id': 'release_schema'})"
      ],
      "metadata": {
        "id": "Ntt6RWulVXcX"
      },
      "execution_count": null,
      "outputs": []
    },
    {
      "cell_type": "code",
      "source": [
        "json_data = json.loads(script_tag.contents[0])"
      ],
      "metadata": {
        "id": "hJcL0TR6Vgr6"
      },
      "execution_count": null,
      "outputs": []
    },
    {
      "cell_type": "code",
      "source": [
        "artists = [artist.get('name') for artist in json_data.get('releaseOf', {}).get('byArtist', [])]"
      ],
      "metadata": {
        "id": "Up5lXE-FVlIE"
      },
      "execution_count": null,
      "outputs": []
    },
    {
      "cell_type": "code",
      "source": [
        "artist = ', '.join(filter(None, artists))\n"
      ],
      "metadata": {
        "id": "2yvlDNzrVpjj"
      },
      "execution_count": null,
      "outputs": []
    },
    {
      "cell_type": "code",
      "source": [
        "if artist:\n",
        "        print(f'Artist(s): {artist}')"
      ],
      "metadata": {
        "colab": {
          "base_uri": "https://localhost:8080/"
        },
        "id": "jYwU6fBzVtSL",
        "outputId": "b74d194a-0621-4847-b871-a9d17a383522"
      },
      "execution_count": null,
      "outputs": [
        {
          "output_type": "stream",
          "name": "stdout",
          "text": [
            "Artist(s): Louis Philippe, Dean Brodrick\n"
          ]
        }
      ]
    },
    {
      "cell_type": "code",
      "source": [
        "title = json_data.get('name')"
      ],
      "metadata": {
        "id": "4CMXoLKiV04u"
      },
      "execution_count": null,
      "outputs": []
    },
    {
      "cell_type": "code",
      "source": [
        "if title:\n",
        "        print(f'Title: {title}')"
      ],
      "metadata": {
        "colab": {
          "base_uri": "https://localhost:8080/"
        },
        "id": "3fOC3SDmV6SE",
        "outputId": "cef264c4-0e27-457d-f0be-583cb8728646"
      },
      "execution_count": null,
      "outputs": [
        {
          "output_type": "stream",
          "name": "stdout",
          "text": [
            "Title: Rainfall\n"
          ]
        }
      ]
    },
    {
      "cell_type": "code",
      "source": [
        "offer_count = json_data.get('Offers', {}).get('offerCount')\n",
        "if offer_count is not None:\n",
        "            print(f'Number of Offers: {offer_count}')"
      ],
      "metadata": {
        "colab": {
          "base_uri": "https://localhost:8080/"
        },
        "id": "YzWDs_FFWiBF",
        "outputId": "352f28e7-b63e-43b6-ae6c-9780fe82b333"
      },
      "execution_count": null,
      "outputs": [
        {
          "output_type": "stream",
          "name": "stdout",
          "text": [
            "Number of Offers: 2\n"
          ]
        }
      ]
    },
    {
      "cell_type": "code",
      "source": [
        " currency_type = json_data.get('Offers', {}).get('priceCurrency')"
      ],
      "metadata": {
        "id": "f4J11iWqV_Yu"
      },
      "execution_count": null,
      "outputs": []
    },
    {
      "cell_type": "code",
      "source": [
        "if currency_type:\n",
        "            print(f'Currency Type: {currency_type}')"
      ],
      "metadata": {
        "colab": {
          "base_uri": "https://localhost:8080/"
        },
        "id": "Wma03wy5WC6Q",
        "outputId": "c88c4971-4531-44e7-a0e7-b02c54e05405"
      },
      "execution_count": null,
      "outputs": [
        {
          "output_type": "stream",
          "name": "stdout",
          "text": [
            "Currency Type: USD\n"
          ]
        }
      ]
    },
    {
      "cell_type": "markdown",
      "source": [
        "To create database"
      ],
      "metadata": {
        "id": "w50FLtaG_IzQ"
      }
    },
    {
      "cell_type": "code",
      "source": [
        "import sqlite3\n",
        "conn = sqlite3.connect('your_database.db')\n",
        "cur = conn.cursor()\n",
        "cur.execute('CREATE TABLE IF NOT EXISTS discogs (id INTEGER PRIMARY KEY AUTOINCREMENT, Aname TEXT, title TEXT, no_offers INTEGER, currency TEXT)')\n",
        "cur.execute('INSERT INTO discogs (Aname, title, no_offers, currency) VALUES (\"Louis Philippe & Dean Brodrick\", \"Rainfall\", 2, \"USD\")')\n",
        "conn.commit()\n",
        "cur.execute('SELECT * FROM discogs')\n",
        "for row in cur.fetchall():\n",
        "    print(row)\n",
        "cur.close()\n",
        "conn.close()\n"
      ],
      "metadata": {
        "colab": {
          "base_uri": "https://localhost:8080/"
        },
        "id": "_3TjI14zINuq",
        "outputId": "dd79b7ce-f650-4d0a-8e00-ae37ab43d948"
      },
      "execution_count": null,
      "outputs": [
        {
          "output_type": "stream",
          "name": "stdout",
          "text": [
            "(1, 'Louis Philippe & Dean Brodrick', 'Rainfall', 2, 'USD')\n"
          ]
        }
      ]
    }
  ]
}